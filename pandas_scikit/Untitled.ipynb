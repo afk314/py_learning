{
 "cells": [
  {
   "cell_type": "markdown",
   "metadata": {},
   "source": [
    "## Loading and training with sklearn\n",
    "\n",
    "* Loading the dataset\n",
    "* Training a classification model\n",
    "* Making predictions"
   ]
  },
  {
   "cell_type": "code",
   "execution_count": 41,
   "metadata": {},
   "outputs": [],
   "source": [
    "import pandas as pd\n",
    "import numpy as np\n",
    "from sklearn import datasets\n",
    "from sklearn.neighbors import KNeighborsClassifier"
   ]
  },
  {
   "cell_type": "code",
   "execution_count": 3,
   "metadata": {},
   "outputs": [],
   "source": [
    "diabetes = datasets.load_diabetes()"
   ]
  },
  {
   "cell_type": "code",
   "execution_count": 6,
   "metadata": {},
   "outputs": [
    {
     "data": {
      "text/plain": [
       "['DESCR', 'data', 'feature_names', 'target']"
      ]
     },
     "execution_count": 6,
     "metadata": {},
     "output_type": "execute_result"
    }
   ],
   "source": [
    "# What do we have?\n",
    "\n",
    "dir(diabetes)"
   ]
  },
  {
   "cell_type": "code",
   "execution_count": 7,
   "metadata": {},
   "outputs": [
    {
     "data": {
      "text/plain": [
       "['age', 'sex', 'bmi', 'bp', 's1', 's2', 's3', 's4', 's5', 's6']"
      ]
     },
     "execution_count": 7,
     "metadata": {},
     "output_type": "execute_result"
    }
   ],
   "source": [
    "diabetes.feature_names"
   ]
  },
  {
   "cell_type": "code",
   "execution_count": 5,
   "metadata": {},
   "outputs": [
    {
     "data": {
      "text/plain": [
       "array([[ 0.03807591,  0.05068012,  0.06169621, ..., -0.00259226,\n",
       "         0.01990842, -0.01764613],\n",
       "       [-0.00188202, -0.04464164, -0.05147406, ..., -0.03949338,\n",
       "        -0.06832974, -0.09220405],\n",
       "       [ 0.08529891,  0.05068012,  0.04445121, ..., -0.00259226,\n",
       "         0.00286377, -0.02593034],\n",
       "       ..., \n",
       "       [ 0.04170844,  0.05068012, -0.01590626, ..., -0.01107952,\n",
       "        -0.04687948,  0.01549073],\n",
       "       [-0.04547248, -0.04464164,  0.03906215, ...,  0.02655962,\n",
       "         0.04452837, -0.02593034],\n",
       "       [-0.04547248, -0.04464164, -0.0730303 , ..., -0.03949338,\n",
       "        -0.00421986,  0.00306441]])"
      ]
     },
     "execution_count": 5,
     "metadata": {},
     "output_type": "execute_result"
    }
   ],
   "source": [
    "diabetes.data"
   ]
  },
  {
   "cell_type": "code",
   "execution_count": 14,
   "metadata": {},
   "outputs": [],
   "source": [
    "x = diabetes.data\n",
    "y = diabetes.target"
   ]
  },
  {
   "cell_type": "markdown",
   "metadata": {},
   "source": [
    "## Assign to Train / Test"
   ]
  },
  {
   "cell_type": "code",
   "execution_count": 25,
   "metadata": {},
   "outputs": [
    {
     "data": {
      "text/plain": [
       "((442, 10), (442,))"
      ]
     },
     "execution_count": 25,
     "metadata": {},
     "output_type": "execute_result"
    }
   ],
   "source": [
    "x.shape, y.shape\n"
   ]
  },
  {
   "cell_type": "code",
   "execution_count": 19,
   "metadata": {},
   "outputs": [],
   "source": [
    "# Assign to train and test sets"
   ]
  },
  {
   "cell_type": "code",
   "execution_count": 21,
   "metadata": {},
   "outputs": [],
   "source": [
    "from sklearn.model_selection import train_test_split"
   ]
  },
  {
   "cell_type": "code",
   "execution_count": 23,
   "metadata": {},
   "outputs": [],
   "source": [
    "x_train, x_test, y_train, y_test = train_test_split(x, y, test_size=0.4, random_state=0)"
   ]
  },
  {
   "cell_type": "code",
   "execution_count": 24,
   "metadata": {},
   "outputs": [
    {
     "data": {
      "text/plain": [
       "((265, 10), (177, 10))"
      ]
     },
     "execution_count": 24,
     "metadata": {},
     "output_type": "execute_result"
    }
   ],
   "source": [
    "x_train.shape, x_test.shape"
   ]
  },
  {
   "cell_type": "markdown",
   "metadata": {},
   "source": [
    "### Train the model"
   ]
  },
  {
   "cell_type": "code",
   "execution_count": 26,
   "metadata": {},
   "outputs": [],
   "source": [
    "model = KNeighborsClassifier(n_neighbors=1)"
   ]
  },
  {
   "cell_type": "code",
   "execution_count": 27,
   "metadata": {},
   "outputs": [
    {
     "data": {
      "text/plain": [
       "KNeighborsClassifier(algorithm='auto', leaf_size=30, metric='minkowski',\n",
       "           metric_params=None, n_jobs=1, n_neighbors=1, p=2,\n",
       "           weights='uniform')"
      ]
     },
     "execution_count": 27,
     "metadata": {},
     "output_type": "execute_result"
    }
   ],
   "source": [
    "model.fit(x_train, y_train)"
   ]
  },
  {
   "cell_type": "markdown",
   "metadata": {},
   "source": [
    "## Make predictions"
   ]
  },
  {
   "cell_type": "code",
   "execution_count": 34,
   "metadata": {},
   "outputs": [
    {
     "data": {
      "text/plain": [
       "array([ 0.01991321,  0.05068012,  0.10480869,  0.07007254, -0.03596778,\n",
       "       -0.0266789 , -0.02499266, -0.00259226,  0.00371174,  0.04034337])"
      ]
     },
     "execution_count": 34,
     "metadata": {},
     "output_type": "execute_result"
    }
   ],
   "source": [
    "# Get the first array from test\n",
    "first = x_test[0]\n",
    "first"
   ]
  },
  {
   "cell_type": "code",
   "execution_count": 31,
   "metadata": {},
   "outputs": [
    {
     "data": {
      "text/plain": [
       "321.0"
      ]
     },
     "execution_count": 31,
     "metadata": {},
     "output_type": "execute_result"
    }
   ],
   "source": [
    "# The real target is\n",
    "\n",
    "y_test[0]"
   ]
  },
  {
   "cell_type": "code",
   "execution_count": 45,
   "metadata": {},
   "outputs": [
    {
     "data": {
      "text/plain": [
       "array([ 336.])"
      ]
     },
     "execution_count": 45,
     "metadata": {},
     "output_type": "execute_result"
    }
   ],
   "source": [
    "model.predict(x_test[0].reshape(1,-1)) # Making a prediction for only one record"
   ]
  },
  {
   "cell_type": "code",
   "execution_count": 49,
   "metadata": {},
   "outputs": [
    {
     "data": {
      "text/plain": [
       "array([ 15.])"
      ]
     },
     "execution_count": 49,
     "metadata": {},
     "output_type": "execute_result"
    }
   ],
   "source": [
    "model.predict(first.reshape(1,-1)) - y_test[0]"
   ]
  },
  {
   "cell_type": "code",
   "execution_count": null,
   "metadata": {},
   "outputs": [],
   "source": []
  },
  {
   "cell_type": "code",
   "execution_count": 65,
   "metadata": {},
   "outputs": [
    {
     "name": "stdout",
     "output_type": "stream",
     "text": [
      "diff: -15.0\n",
      "diff: -5.0\n",
      "diff: -98.0\n",
      "diff: -29.0\n",
      "diff: -118.0\n",
      "diff: 147.0\n",
      "diff: 83.0\n",
      "diff: -43.0\n",
      "diff: 47.0\n",
      "diff: -211.0\n",
      "diff: 121.0\n",
      "diff: 52.0\n",
      "diff: -49.0\n",
      "diff: 11.0\n",
      "diff: -68.0\n",
      "diff: 6.0\n",
      "diff: -58.0\n",
      "diff: 12.0\n",
      "diff: 2.0\n",
      "diff: -113.0\n",
      "diff: -82.0\n",
      "diff: 188.0\n",
      "diff: -115.0\n",
      "diff: -74.0\n",
      "diff: -161.0\n",
      "diff: -134.0\n",
      "diff: -67.0\n",
      "diff: 45.0\n",
      "diff: 25.0\n",
      "diff: 74.0\n",
      "diff: 32.0\n",
      "diff: 139.0\n",
      "diff: 24.0\n",
      "diff: -6.0\n",
      "diff: 152.0\n",
      "diff: 16.0\n",
      "diff: -63.0\n",
      "diff: 180.0\n",
      "diff: -39.0\n",
      "diff: 89.0\n",
      "diff: -64.0\n",
      "diff: 72.0\n",
      "diff: -167.0\n",
      "diff: -67.0\n",
      "diff: 122.0\n",
      "diff: 24.0\n",
      "diff: 66.0\n",
      "diff: 69.0\n",
      "diff: -27.0\n",
      "diff: -26.0\n",
      "diff: -69.0\n",
      "diff: 66.0\n",
      "diff: -103.0\n",
      "diff: 20.0\n",
      "diff: -85.0\n",
      "diff: -10.0\n",
      "diff: 1.0\n",
      "diff: -89.0\n",
      "diff: 163.0\n",
      "diff: -30.0\n",
      "diff: -258.0\n",
      "diff: 96.0\n",
      "diff: 4.0\n",
      "diff: -4.0\n",
      "diff: -133.0\n",
      "diff: 189.0\n",
      "diff: -12.0\n",
      "diff: 49.0\n",
      "diff: -92.0\n",
      "diff: -15.0\n",
      "diff: 14.0\n",
      "diff: -32.0\n",
      "diff: 35.0\n",
      "diff: -51.0\n",
      "diff: -120.0\n",
      "diff: 56.0\n",
      "diff: -12.0\n",
      "diff: -86.0\n",
      "diff: -152.0\n",
      "diff: 216.0\n",
      "diff: 74.0\n",
      "diff: -14.0\n",
      "diff: -5.0\n",
      "diff: -14.0\n",
      "diff: -12.0\n",
      "diff: -104.0\n",
      "diff: 43.0\n",
      "diff: 16.0\n",
      "diff: -35.0\n",
      "diff: 20.0\n",
      "diff: 52.0\n",
      "diff: 6.0\n",
      "diff: -1.0\n",
      "diff: 100.0\n",
      "diff: 56.0\n",
      "diff: -76.0\n",
      "diff: -24.0\n",
      "diff: 128.0\n",
      "diff: 62.0\n",
      "diff: 13.0\n",
      "diff: 119.0\n",
      "diff: -46.0\n",
      "diff: -44.0\n",
      "diff: 85.0\n",
      "diff: -112.0\n",
      "diff: -17.0\n",
      "diff: 28.0\n",
      "diff: -9.0\n",
      "diff: -76.0\n",
      "diff: 107.0\n",
      "diff: 49.0\n",
      "diff: 9.0\n",
      "diff: -43.0\n",
      "diff: -22.0\n",
      "diff: 59.0\n",
      "diff: 10.0\n",
      "diff: 0.0\n",
      "diff: -28.0\n",
      "diff: 130.0\n",
      "diff: -114.0\n",
      "diff: -32.0\n",
      "diff: -128.0\n",
      "diff: 69.0\n",
      "diff: 7.0\n",
      "diff: 47.0\n",
      "diff: -60.0\n",
      "diff: 97.0\n",
      "diff: -98.0\n",
      "diff: -94.0\n",
      "diff: -8.0\n",
      "diff: 90.0\n",
      "diff: 27.0\n",
      "diff: -59.0\n",
      "diff: 137.0\n",
      "diff: 35.0\n",
      "diff: -49.0\n",
      "diff: 33.0\n",
      "diff: 12.0\n",
      "diff: -24.0\n",
      "diff: -66.0\n",
      "diff: -86.0\n",
      "diff: 185.0\n",
      "diff: 10.0\n",
      "diff: 17.0\n",
      "diff: -31.0\n",
      "diff: -2.0\n",
      "diff: 37.0\n",
      "diff: 11.0\n",
      "diff: -28.0\n",
      "diff: 112.0\n",
      "diff: -118.0\n",
      "diff: 4.0\n",
      "diff: -34.0\n",
      "diff: 179.0\n",
      "diff: -3.0\n",
      "diff: -75.0\n",
      "diff: -34.0\n",
      "diff: 75.0\n",
      "diff: 39.0\n",
      "diff: -241.0\n",
      "diff: -35.0\n",
      "diff: -60.0\n",
      "diff: -6.0\n",
      "diff: 28.0\n",
      "diff: -64.0\n",
      "diff: -3.0\n",
      "diff: 6.0\n",
      "diff: 71.0\n",
      "diff: 38.0\n",
      "diff: 31.0\n",
      "diff: 16.0\n",
      "diff: -12.0\n",
      "diff: 47.0\n",
      "diff: 76.0\n",
      "diff: 35.0\n",
      "diff: 16.0\n",
      "diff: 59.0\n",
      "Total count: 177\n"
     ]
    }
   ],
   "source": [
    "total_count = 0\n",
    "total_sum = 0\n",
    "for count,value in enumerate(x_test):\n",
    "    total_count += 1\n",
    "    real = y_test[count]\n",
    "    predicted = model.predict(x_test[count].reshape(1,-1))\n",
    "    diff = real-predicted\n",
    "    print(\"diff: \"+str(diff[0]))\n",
    "print(\"Total count: \"+str(total_count))\n",
    "\n"
   ]
  },
  {
   "cell_type": "code",
   "execution_count": 39,
   "metadata": {},
   "outputs": [],
   "source": [
    "test_predicts = model.predict(x_test) # Making a prediction for all records in test"
   ]
  },
  {
   "cell_type": "code",
   "execution_count": 40,
   "metadata": {},
   "outputs": [
    {
     "data": {
      "text/plain": [
       "array([  15.,    5.,   98.,   29.,  118., -147.,  -83.,   43.,  -47.,\n",
       "        211., -121.,  -52.,   49.,  -11.,   68.,   -6.,   58.,  -12.,\n",
       "         -2.,  113.,   82., -188.,  115.,   74.,  161.,  134.,   67.,\n",
       "        -45.,  -25.,  -74.,  -32., -139.,  -24.,    6., -152.,  -16.,\n",
       "         63., -180.,   39.,  -89.,   64.,  -72.,  167.,   67., -122.,\n",
       "        -24.,  -66.,  -69.,   27.,   26.,   69.,  -66.,  103.,  -20.,\n",
       "         85.,   10.,   -1.,   89., -163.,   30.,  258.,  -96.,   -4.,\n",
       "          4.,  133., -189.,   12.,  -49.,   92.,   15.,  -14.,   32.,\n",
       "        -35.,   51.,  120.,  -56.,   12.,   86.,  152., -216.,  -74.,\n",
       "         14.,    5.,   14.,   12.,  104.,  -43.,  -16.,   35.,  -20.,\n",
       "        -52.,   -6.,    1., -100.,  -56.,   76.,   24., -128.,  -62.,\n",
       "        -13., -119.,   46.,   44.,  -85.,  112.,   17.,  -28.,    9.,\n",
       "         76., -107.,  -49.,   -9.,   43.,   22.,  -59.,  -10.,    0.,\n",
       "         28., -130.,  114.,   32.,  128.,  -69.,   -7.,  -47.,   60.,\n",
       "        -97.,   98.,   94.,    8.,  -90.,  -27.,   59., -137.,  -35.,\n",
       "         49.,  -33.,  -12.,   24.,   66.,   86., -185.,  -10.,  -17.,\n",
       "         31.,    2.,  -37.,  -11.,   28., -112.,  118.,   -4.,   34.,\n",
       "       -179.,    3.,   75.,   34.,  -75.,  -39.,  241.,   35.,   60.,\n",
       "          6.,  -28.,   64.,    3.,   -6.,  -71.,  -38.,  -31.,  -16.,\n",
       "         12.,  -47.,  -76.,  -35.,  -16.,  -59.])"
      ]
     },
     "execution_count": 40,
     "metadata": {},
     "output_type": "execute_result"
    }
   ],
   "source": [
    "test_predicts - y_test\n"
   ]
  },
  {
   "cell_type": "code",
   "execution_count": 42,
   "metadata": {},
   "outputs": [
    {
     "data": {
      "text/plain": [
       "81.777309178442238"
      ]
     },
     "execution_count": 42,
     "metadata": {},
     "output_type": "execute_result"
    }
   ],
   "source": [
    "np.std(test_predicts - y_test)"
   ]
  },
  {
   "cell_type": "code",
   "execution_count": null,
   "metadata": {},
   "outputs": [],
   "source": []
  }
 ],
 "metadata": {
  "kernelspec": {
   "display_name": "Python 3",
   "language": "python",
   "name": "python3"
  },
  "language_info": {
   "codemirror_mode": {
    "name": "ipython",
    "version": 3
   },
   "file_extension": ".py",
   "mimetype": "text/x-python",
   "name": "python",
   "nbconvert_exporter": "python",
   "pygments_lexer": "ipython3",
   "version": "3.6.3"
  }
 },
 "nbformat": 4,
 "nbformat_minor": 2
}

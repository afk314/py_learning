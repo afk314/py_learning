{
 "cells": [
  {
   "cell_type": "markdown",
   "metadata": {},
   "source": [
    "## Pandas\n",
    "\n",
    "* Many I/O tools\n",
    "* Supports heterogeneous data (mixed types)\n",
    "* Time series functionality\n",
    "* Efficient with large amounts of data\n",
    "* Easily slices and dices data\n",
    "* Many statistics algorithms out of the box\n",
    "* Advanced visualtion options\n",
    "* Top-notch documentation"
   ]
  },
  {
   "cell_type": "code",
   "execution_count": 3,
   "metadata": {},
   "outputs": [],
   "source": [
    "from os import path\n",
    "fname = path.expanduser('~/Desktop/track.csv')"
   ]
  },
  {
   "cell_type": "code",
   "execution_count": 4,
   "metadata": {},
   "outputs": [
    {
     "name": "stdout",
     "output_type": "stream",
     "text": [
      "-rwxrwxrwx  1 akimball  staff    43K Apr  7  2017 \u001b[31m/Users/akimball/Desktop/track.csv\u001b[m\u001b[m\r\n"
     ]
    }
   ],
   "source": [
    "!ls -lh \"$fname\""
   ]
  },
  {
   "cell_type": "code",
   "execution_count": 5,
   "metadata": {},
   "outputs": [
    {
     "name": "stdout",
     "output_type": "stream",
     "text": [
      "time,lat,lng,height\r\n",
      "2015-08-20 03:48:07.235,35.015021,32.519585,136.1999969482422\r\n",
      "2015-08-20 03:48:24.734,35.014954,32.519606,126.5999984741211\r\n",
      "2015-08-20 03:48:25.660,35.014871,32.519612,123.0\r\n",
      "2015-08-20 03:48:26.819,35.014824,32.519654,120.5\r\n",
      "2015-08-20 03:48:27.828,35.014776,32.519689,118.9000015258789\r\n",
      "2015-08-20 03:48:29.720,35.014704,32.519691,119.9000015258789\r\n",
      "2015-08-20 03:48:30.669,35.014657,32.519734,120.9000015258789\r\n",
      "2015-08-20 03:48:33.793,35.014563,32.519719,121.69999694824219\r\n",
      "2015-08-20 03:48:34.869,35.014549,32.519694,121.19999694824219\r\n"
     ]
    }
   ],
   "source": [
    "!head \"$fname\""
   ]
  },
  {
   "cell_type": "code",
   "execution_count": 6,
   "metadata": {},
   "outputs": [
    {
     "name": "stdout",
     "output_type": "stream",
     "text": [
      "     741 /Users/akimball/Desktop/track.csv\r\n"
     ]
    }
   ],
   "source": [
    "# Number of lines\n",
    "\n",
    "!wc -l \"$fname\""
   ]
  },
  {
   "cell_type": "code",
   "execution_count": 7,
   "metadata": {},
   "outputs": [],
   "source": [
    "import pandas as pd\n",
    "df = pd.read_csv(fname)"
   ]
  },
  {
   "cell_type": "code",
   "execution_count": 8,
   "metadata": {},
   "outputs": [
    {
     "data": {
      "text/plain": [
       "740"
      ]
     },
     "execution_count": 8,
     "metadata": {},
     "output_type": "execute_result"
    }
   ],
   "source": [
    "len(df)\n"
   ]
  },
  {
   "cell_type": "code",
   "execution_count": 9,
   "metadata": {},
   "outputs": [
    {
     "data": {
      "text/plain": [
       "Index(['time', 'lat', 'lng', 'height'], dtype='object')"
      ]
     },
     "execution_count": 9,
     "metadata": {},
     "output_type": "execute_result"
    }
   ],
   "source": [
    "df.columns"
   ]
  },
  {
   "cell_type": "code",
   "execution_count": 10,
   "metadata": {},
   "outputs": [
    {
     "name": "stdout",
     "output_type": "stream",
     "text": [
      "<class 'pandas.core.frame.DataFrame'>\n",
      "RangeIndex: 740 entries, 0 to 739\n",
      "Data columns (total 4 columns):\n",
      "time      740 non-null object\n",
      "lat       740 non-null float64\n",
      "lng       740 non-null float64\n",
      "height    740 non-null float64\n",
      "dtypes: float64(3), object(1)\n",
      "memory usage: 23.2+ KB\n"
     ]
    }
   ],
   "source": [
    "df.info()"
   ]
  },
  {
   "cell_type": "code",
   "execution_count": 11,
   "metadata": {},
   "outputs": [
    {
     "data": {
      "text/html": [
       "<div>\n",
       "<style scoped>\n",
       "    .dataframe tbody tr th:only-of-type {\n",
       "        vertical-align: middle;\n",
       "    }\n",
       "\n",
       "    .dataframe tbody tr th {\n",
       "        vertical-align: top;\n",
       "    }\n",
       "\n",
       "    .dataframe thead th {\n",
       "        text-align: right;\n",
       "    }\n",
       "</style>\n",
       "<table border=\"1\" class=\"dataframe\">\n",
       "  <thead>\n",
       "    <tr style=\"text-align: right;\">\n",
       "      <th></th>\n",
       "      <th>time</th>\n",
       "      <th>lat</th>\n",
       "      <th>lng</th>\n",
       "      <th>height</th>\n",
       "    </tr>\n",
       "  </thead>\n",
       "  <tbody>\n",
       "    <tr>\n",
       "      <th>0</th>\n",
       "      <td>2015-08-20 03:48:07.235</td>\n",
       "      <td>35.015021</td>\n",
       "      <td>32.519585</td>\n",
       "      <td>136.199997</td>\n",
       "    </tr>\n",
       "    <tr>\n",
       "      <th>1</th>\n",
       "      <td>2015-08-20 03:48:24.734</td>\n",
       "      <td>35.014954</td>\n",
       "      <td>32.519606</td>\n",
       "      <td>126.599998</td>\n",
       "    </tr>\n",
       "    <tr>\n",
       "      <th>2</th>\n",
       "      <td>2015-08-20 03:48:25.660</td>\n",
       "      <td>35.014871</td>\n",
       "      <td>32.519612</td>\n",
       "      <td>123.000000</td>\n",
       "    </tr>\n",
       "    <tr>\n",
       "      <th>3</th>\n",
       "      <td>2015-08-20 03:48:26.819</td>\n",
       "      <td>35.014824</td>\n",
       "      <td>32.519654</td>\n",
       "      <td>120.500000</td>\n",
       "    </tr>\n",
       "    <tr>\n",
       "      <th>4</th>\n",
       "      <td>2015-08-20 03:48:27.828</td>\n",
       "      <td>35.014776</td>\n",
       "      <td>32.519689</td>\n",
       "      <td>118.900002</td>\n",
       "    </tr>\n",
       "  </tbody>\n",
       "</table>\n",
       "</div>"
      ],
      "text/plain": [
       "                      time        lat        lng      height\n",
       "0  2015-08-20 03:48:07.235  35.015021  32.519585  136.199997\n",
       "1  2015-08-20 03:48:24.734  35.014954  32.519606  126.599998\n",
       "2  2015-08-20 03:48:25.660  35.014871  32.519612  123.000000\n",
       "3  2015-08-20 03:48:26.819  35.014824  32.519654  120.500000\n",
       "4  2015-08-20 03:48:27.828  35.014776  32.519689  118.900002"
      ]
     },
     "execution_count": 11,
     "metadata": {},
     "output_type": "execute_result"
    }
   ],
   "source": [
    "df.head()\n"
   ]
  },
  {
   "cell_type": "code",
   "execution_count": 12,
   "metadata": {},
   "outputs": [
    {
     "data": {
      "text/plain": [
       "time       object\n",
       "lat       float64\n",
       "lng       float64\n",
       "height    float64\n",
       "dtype: object"
      ]
     },
     "execution_count": 12,
     "metadata": {},
     "output_type": "execute_result"
    }
   ],
   "source": [
    "df.dtypes"
   ]
  },
  {
   "cell_type": "markdown",
   "metadata": {},
   "source": [
    "### Parse time on CSV import"
   ]
  },
  {
   "cell_type": "code",
   "execution_count": 13,
   "metadata": {},
   "outputs": [
    {
     "data": {
      "text/plain": [
       "time      datetime64[ns]\n",
       "lat              float64\n",
       "lng              float64\n",
       "height           float64\n",
       "dtype: object"
      ]
     },
     "execution_count": 13,
     "metadata": {},
     "output_type": "execute_result"
    }
   ],
   "source": [
    "df = pd.read_csv(fname, parse_dates=['time'])\n",
    "df.dtypes"
   ]
  },
  {
   "cell_type": "code",
   "execution_count": 14,
   "metadata": {},
   "outputs": [
    {
     "data": {
      "text/plain": [
       "0      35.015021\n",
       "1      35.014954\n",
       "2      35.014871\n",
       "3      35.014824\n",
       "4      35.014776\n",
       "5      35.014704\n",
       "6      35.014657\n",
       "7      35.014563\n",
       "8      35.014549\n",
       "9      35.014515\n",
       "10     35.014505\n",
       "11     35.014481\n",
       "12     35.014472\n",
       "13     35.014439\n",
       "14     35.014432\n",
       "15     35.014414\n",
       "16     35.014400\n",
       "17     35.014372\n",
       "18     35.014365\n",
       "19     35.014337\n",
       "20     35.014331\n",
       "21     35.014303\n",
       "22     35.014306\n",
       "23     35.014340\n",
       "24     35.013531\n",
       "25     35.013606\n",
       "26     35.013630\n",
       "27     35.013705\n",
       "28     35.013730\n",
       "29     35.013809\n",
       "         ...    \n",
       "710    35.015705\n",
       "711    35.015640\n",
       "712    35.015617\n",
       "713    35.015551\n",
       "714    35.015533\n",
       "715    35.015468\n",
       "716    35.015444\n",
       "717    35.015369\n",
       "718    35.015343\n",
       "719    35.015264\n",
       "720    35.015238\n",
       "721    35.015157\n",
       "722    35.015129\n",
       "723    35.015048\n",
       "724    35.015023\n",
       "725    35.014943\n",
       "726    35.014916\n",
       "727    35.014835\n",
       "728    35.014810\n",
       "729    35.014737\n",
       "730    35.014709\n",
       "731    35.014617\n",
       "732    35.014584\n",
       "733    35.014518\n",
       "734    35.014484\n",
       "735    35.014387\n",
       "736    35.014355\n",
       "737    35.014279\n",
       "738    35.014264\n",
       "739    35.014212\n",
       "Name: lat, Length: 740, dtype: float64"
      ]
     },
     "execution_count": 14,
     "metadata": {},
     "output_type": "execute_result"
    }
   ],
   "source": [
    "df['lat']"
   ]
  },
  {
   "cell_type": "code",
   "execution_count": 15,
   "metadata": {},
   "outputs": [
    {
     "data": {
      "text/plain": [
       "35.015021000000004"
      ]
     },
     "execution_count": 15,
     "metadata": {},
     "output_type": "execute_result"
    }
   ],
   "source": [
    "df['lat'][0]"
   ]
  },
  {
   "cell_type": "code",
   "execution_count": 16,
   "metadata": {},
   "outputs": [
    {
     "data": {
      "text/plain": [
       "time      2015-08-20 03:48:07.235000\n",
       "lat                           35.015\n",
       "lng                          32.5196\n",
       "height                         136.2\n",
       "Name: 0, dtype: object"
      ]
     },
     "execution_count": 16,
     "metadata": {},
     "output_type": "execute_result"
    }
   ],
   "source": [
    "df.loc[0]"
   ]
  },
  {
   "cell_type": "code",
   "execution_count": 17,
   "metadata": {},
   "outputs": [
    {
     "data": {
      "text/html": [
       "<div>\n",
       "<style scoped>\n",
       "    .dataframe tbody tr th:only-of-type {\n",
       "        vertical-align: middle;\n",
       "    }\n",
       "\n",
       "    .dataframe tbody tr th {\n",
       "        vertical-align: top;\n",
       "    }\n",
       "\n",
       "    .dataframe thead th {\n",
       "        text-align: right;\n",
       "    }\n",
       "</style>\n",
       "<table border=\"1\" class=\"dataframe\">\n",
       "  <thead>\n",
       "    <tr style=\"text-align: right;\">\n",
       "      <th></th>\n",
       "      <th>time</th>\n",
       "      <th>lat</th>\n",
       "      <th>lng</th>\n",
       "      <th>height</th>\n",
       "    </tr>\n",
       "  </thead>\n",
       "  <tbody>\n",
       "    <tr>\n",
       "      <th>2</th>\n",
       "      <td>2015-08-20 03:48:25.660</td>\n",
       "      <td>35.014871</td>\n",
       "      <td>32.519612</td>\n",
       "      <td>123.000000</td>\n",
       "    </tr>\n",
       "    <tr>\n",
       "      <th>3</th>\n",
       "      <td>2015-08-20 03:48:26.819</td>\n",
       "      <td>35.014824</td>\n",
       "      <td>32.519654</td>\n",
       "      <td>120.500000</td>\n",
       "    </tr>\n",
       "    <tr>\n",
       "      <th>4</th>\n",
       "      <td>2015-08-20 03:48:27.828</td>\n",
       "      <td>35.014776</td>\n",
       "      <td>32.519689</td>\n",
       "      <td>118.900002</td>\n",
       "    </tr>\n",
       "    <tr>\n",
       "      <th>5</th>\n",
       "      <td>2015-08-20 03:48:29.720</td>\n",
       "      <td>35.014704</td>\n",
       "      <td>32.519691</td>\n",
       "      <td>119.900002</td>\n",
       "    </tr>\n",
       "    <tr>\n",
       "      <th>6</th>\n",
       "      <td>2015-08-20 03:48:30.669</td>\n",
       "      <td>35.014657</td>\n",
       "      <td>32.519734</td>\n",
       "      <td>120.900002</td>\n",
       "    </tr>\n",
       "    <tr>\n",
       "      <th>7</th>\n",
       "      <td>2015-08-20 03:48:33.793</td>\n",
       "      <td>35.014563</td>\n",
       "      <td>32.519719</td>\n",
       "      <td>121.699997</td>\n",
       "    </tr>\n",
       "  </tbody>\n",
       "</table>\n",
       "</div>"
      ],
      "text/plain": [
       "                     time        lat        lng      height\n",
       "2 2015-08-20 03:48:25.660  35.014871  32.519612  123.000000\n",
       "3 2015-08-20 03:48:26.819  35.014824  32.519654  120.500000\n",
       "4 2015-08-20 03:48:27.828  35.014776  32.519689  118.900002\n",
       "5 2015-08-20 03:48:29.720  35.014704  32.519691  119.900002\n",
       "6 2015-08-20 03:48:30.669  35.014657  32.519734  120.900002\n",
       "7 2015-08-20 03:48:33.793  35.014563  32.519719  121.699997"
      ]
     },
     "execution_count": 17,
     "metadata": {},
     "output_type": "execute_result"
    }
   ],
   "source": [
    "df.loc[2:7]\n"
   ]
  },
  {
   "cell_type": "markdown",
   "metadata": {},
   "source": [
    "### Using labels as indices"
   ]
  },
  {
   "cell_type": "code",
   "execution_count": 18,
   "metadata": {},
   "outputs": [
    {
     "data": {
      "text/html": [
       "<div>\n",
       "<style scoped>\n",
       "    .dataframe tbody tr th:only-of-type {\n",
       "        vertical-align: middle;\n",
       "    }\n",
       "\n",
       "    .dataframe tbody tr th {\n",
       "        vertical-align: top;\n",
       "    }\n",
       "\n",
       "    .dataframe thead th {\n",
       "        text-align: right;\n",
       "    }\n",
       "</style>\n",
       "<table border=\"1\" class=\"dataframe\">\n",
       "  <thead>\n",
       "    <tr style=\"text-align: right;\">\n",
       "      <th></th>\n",
       "      <th>x</th>\n",
       "      <th>y</th>\n",
       "    </tr>\n",
       "  </thead>\n",
       "  <tbody>\n",
       "    <tr>\n",
       "      <th>a</th>\n",
       "      <td>0</td>\n",
       "      <td>1</td>\n",
       "    </tr>\n",
       "    <tr>\n",
       "      <th>b</th>\n",
       "      <td>2</td>\n",
       "      <td>3</td>\n",
       "    </tr>\n",
       "    <tr>\n",
       "      <th>c</th>\n",
       "      <td>4</td>\n",
       "      <td>5</td>\n",
       "    </tr>\n",
       "    <tr>\n",
       "      <th>d</th>\n",
       "      <td>6</td>\n",
       "      <td>7</td>\n",
       "    </tr>\n",
       "    <tr>\n",
       "      <th>e</th>\n",
       "      <td>8</td>\n",
       "      <td>9</td>\n",
       "    </tr>\n",
       "  </tbody>\n",
       "</table>\n",
       "</div>"
      ],
      "text/plain": [
       "   x  y\n",
       "a  0  1\n",
       "b  2  3\n",
       "c  4  5\n",
       "d  6  7\n",
       "e  8  9"
      ]
     },
     "execution_count": 18,
     "metadata": {},
     "output_type": "execute_result"
    }
   ],
   "source": [
    "import numpy as np\n",
    "df1 = pd.DataFrame(np.arange(10).reshape((5,2)), columns=['x','y'], index=['a', 'b', 'c', 'd', 'e'])\n",
    "df1\n"
   ]
  },
  {
   "cell_type": "code",
   "execution_count": 19,
   "metadata": {},
   "outputs": [
    {
     "data": {
      "text/plain": [
       "x    0\n",
       "y    1\n",
       "Name: a, dtype: int64"
      ]
     },
     "execution_count": 19,
     "metadata": {},
     "output_type": "execute_result"
    }
   ],
   "source": [
    "df1.loc['a']"
   ]
  },
  {
   "cell_type": "code",
   "execution_count": 20,
   "metadata": {},
   "outputs": [
    {
     "data": {
      "text/html": [
       "<div>\n",
       "<style scoped>\n",
       "    .dataframe tbody tr th:only-of-type {\n",
       "        vertical-align: middle;\n",
       "    }\n",
       "\n",
       "    .dataframe tbody tr th {\n",
       "        vertical-align: top;\n",
       "    }\n",
       "\n",
       "    .dataframe thead th {\n",
       "        text-align: right;\n",
       "    }\n",
       "</style>\n",
       "<table border=\"1\" class=\"dataframe\">\n",
       "  <thead>\n",
       "    <tr style=\"text-align: right;\">\n",
       "      <th></th>\n",
       "      <th>x</th>\n",
       "      <th>y</th>\n",
       "    </tr>\n",
       "  </thead>\n",
       "  <tbody>\n",
       "    <tr>\n",
       "      <th>b</th>\n",
       "      <td>2</td>\n",
       "      <td>3</td>\n",
       "    </tr>\n",
       "    <tr>\n",
       "      <th>c</th>\n",
       "      <td>4</td>\n",
       "      <td>5</td>\n",
       "    </tr>\n",
       "    <tr>\n",
       "      <th>d</th>\n",
       "      <td>6</td>\n",
       "      <td>7</td>\n",
       "    </tr>\n",
       "  </tbody>\n",
       "</table>\n",
       "</div>"
      ],
      "text/plain": [
       "   x  y\n",
       "b  2  3\n",
       "c  4  5\n",
       "d  6  7"
      ]
     },
     "execution_count": 20,
     "metadata": {},
     "output_type": "execute_result"
    }
   ],
   "source": [
    "df1.loc['b':'d']"
   ]
  },
  {
   "cell_type": "code",
   "execution_count": 21,
   "metadata": {},
   "outputs": [
    {
     "data": {
      "text/plain": [
       "RangeIndex(start=0, stop=740, step=1)"
      ]
     },
     "execution_count": 21,
     "metadata": {},
     "output_type": "execute_result"
    }
   ],
   "source": [
    "df.index"
   ]
  },
  {
   "cell_type": "code",
   "execution_count": 22,
   "metadata": {},
   "outputs": [],
   "source": [
    "df.index = df['time']"
   ]
  },
  {
   "cell_type": "code",
   "execution_count": 23,
   "metadata": {},
   "outputs": [
    {
     "data": {
      "text/plain": [
       "DatetimeIndex(['2015-08-20 03:48:07.235000', '2015-08-20 03:48:24.734000',\n",
       "               '2015-08-20 03:48:25.660000', '2015-08-20 03:48:26.819000',\n",
       "               '2015-08-20 03:48:27.828000', '2015-08-20 03:48:29.720000',\n",
       "               '2015-08-20 03:48:30.669000', '2015-08-20 03:48:33.793000',\n",
       "               '2015-08-20 03:48:34.869000', '2015-08-20 03:48:37.708000',\n",
       "               ...\n",
       "               '2015-08-20 04:20:18.844000', '2015-08-20 04:20:21.996000',\n",
       "               '2015-08-20 04:20:22.897000', '2015-08-20 04:20:24.905000',\n",
       "               '2015-08-20 04:20:25.835000', '2015-08-20 04:20:28.982000',\n",
       "               '2015-08-20 04:20:29.923000', '2015-08-20 04:20:32.863000',\n",
       "               '2015-08-20 04:20:33.994000', '2015-08-20 04:20:42.329000'],\n",
       "              dtype='datetime64[ns]', name='time', length=740, freq=None)"
      ]
     },
     "execution_count": 23,
     "metadata": {},
     "output_type": "execute_result"
    }
   ],
   "source": [
    "df.index"
   ]
  },
  {
   "cell_type": "code",
   "execution_count": 24,
   "metadata": {},
   "outputs": [
    {
     "data": {
      "text/html": [
       "<div>\n",
       "<style scoped>\n",
       "    .dataframe tbody tr th:only-of-type {\n",
       "        vertical-align: middle;\n",
       "    }\n",
       "\n",
       "    .dataframe tbody tr th {\n",
       "        vertical-align: top;\n",
       "    }\n",
       "\n",
       "    .dataframe thead th {\n",
       "        text-align: right;\n",
       "    }\n",
       "</style>\n",
       "<table border=\"1\" class=\"dataframe\">\n",
       "  <thead>\n",
       "    <tr style=\"text-align: right;\">\n",
       "      <th></th>\n",
       "      <th>time</th>\n",
       "      <th>lat</th>\n",
       "      <th>lng</th>\n",
       "      <th>height</th>\n",
       "    </tr>\n",
       "    <tr>\n",
       "      <th>time</th>\n",
       "      <th></th>\n",
       "      <th></th>\n",
       "      <th></th>\n",
       "      <th></th>\n",
       "    </tr>\n",
       "  </thead>\n",
       "  <tbody>\n",
       "    <tr>\n",
       "      <th>2015-08-20 03:48:07.235</th>\n",
       "      <td>2015-08-20 03:48:07.235</td>\n",
       "      <td>35.015021</td>\n",
       "      <td>32.519585</td>\n",
       "      <td>136.199997</td>\n",
       "    </tr>\n",
       "    <tr>\n",
       "      <th>2015-08-20 03:48:24.734</th>\n",
       "      <td>2015-08-20 03:48:24.734</td>\n",
       "      <td>35.014954</td>\n",
       "      <td>32.519606</td>\n",
       "      <td>126.599998</td>\n",
       "    </tr>\n",
       "    <tr>\n",
       "      <th>2015-08-20 03:48:25.660</th>\n",
       "      <td>2015-08-20 03:48:25.660</td>\n",
       "      <td>35.014871</td>\n",
       "      <td>32.519612</td>\n",
       "      <td>123.000000</td>\n",
       "    </tr>\n",
       "    <tr>\n",
       "      <th>2015-08-20 03:48:26.819</th>\n",
       "      <td>2015-08-20 03:48:26.819</td>\n",
       "      <td>35.014824</td>\n",
       "      <td>32.519654</td>\n",
       "      <td>120.500000</td>\n",
       "    </tr>\n",
       "    <tr>\n",
       "      <th>2015-08-20 03:48:27.828</th>\n",
       "      <td>2015-08-20 03:48:27.828</td>\n",
       "      <td>35.014776</td>\n",
       "      <td>32.519689</td>\n",
       "      <td>118.900002</td>\n",
       "    </tr>\n",
       "    <tr>\n",
       "      <th>2015-08-20 03:48:29.720</th>\n",
       "      <td>2015-08-20 03:48:29.720</td>\n",
       "      <td>35.014704</td>\n",
       "      <td>32.519691</td>\n",
       "      <td>119.900002</td>\n",
       "    </tr>\n",
       "    <tr>\n",
       "      <th>2015-08-20 03:48:30.669</th>\n",
       "      <td>2015-08-20 03:48:30.669</td>\n",
       "      <td>35.014657</td>\n",
       "      <td>32.519734</td>\n",
       "      <td>120.900002</td>\n",
       "    </tr>\n",
       "    <tr>\n",
       "      <th>2015-08-20 03:48:33.793</th>\n",
       "      <td>2015-08-20 03:48:33.793</td>\n",
       "      <td>35.014563</td>\n",
       "      <td>32.519719</td>\n",
       "      <td>121.699997</td>\n",
       "    </tr>\n",
       "    <tr>\n",
       "      <th>2015-08-20 03:48:34.869</th>\n",
       "      <td>2015-08-20 03:48:34.869</td>\n",
       "      <td>35.014549</td>\n",
       "      <td>32.519694</td>\n",
       "      <td>121.199997</td>\n",
       "    </tr>\n",
       "    <tr>\n",
       "      <th>2015-08-20 03:48:37.708</th>\n",
       "      <td>2015-08-20 03:48:37.708</td>\n",
       "      <td>35.014515</td>\n",
       "      <td>32.519625</td>\n",
       "      <td>121.699997</td>\n",
       "    </tr>\n",
       "    <tr>\n",
       "      <th>2015-08-20 03:48:38.839</th>\n",
       "      <td>2015-08-20 03:48:38.839</td>\n",
       "      <td>35.014505</td>\n",
       "      <td>32.519599</td>\n",
       "      <td>121.800003</td>\n",
       "    </tr>\n",
       "    <tr>\n",
       "      <th>2015-08-20 03:48:41.980</th>\n",
       "      <td>2015-08-20 03:48:41.980</td>\n",
       "      <td>35.014481</td>\n",
       "      <td>32.519514</td>\n",
       "      <td>122.599998</td>\n",
       "    </tr>\n",
       "    <tr>\n",
       "      <th>2015-08-20 03:48:42.725</th>\n",
       "      <td>2015-08-20 03:48:42.725</td>\n",
       "      <td>35.014472</td>\n",
       "      <td>32.519486</td>\n",
       "      <td>123.000000</td>\n",
       "    </tr>\n",
       "    <tr>\n",
       "      <th>2015-08-20 03:48:45.896</th>\n",
       "      <td>2015-08-20 03:48:45.896</td>\n",
       "      <td>35.014439</td>\n",
       "      <td>32.519405</td>\n",
       "      <td>122.699997</td>\n",
       "    </tr>\n",
       "    <tr>\n",
       "      <th>2015-08-20 03:48:46.662</th>\n",
       "      <td>2015-08-20 03:48:46.662</td>\n",
       "      <td>35.014432</td>\n",
       "      <td>32.519379</td>\n",
       "      <td>122.699997</td>\n",
       "    </tr>\n",
       "    <tr>\n",
       "      <th>2015-08-20 03:48:49.829</th>\n",
       "      <td>2015-08-20 03:48:49.829</td>\n",
       "      <td>35.014414</td>\n",
       "      <td>32.519309</td>\n",
       "      <td>122.699997</td>\n",
       "    </tr>\n",
       "    <tr>\n",
       "      <th>2015-08-20 03:48:50.665</th>\n",
       "      <td>2015-08-20 03:48:50.665</td>\n",
       "      <td>35.014400</td>\n",
       "      <td>32.519287</td>\n",
       "      <td>123.300003</td>\n",
       "    </tr>\n",
       "    <tr>\n",
       "      <th>2015-08-20 03:48:53.692</th>\n",
       "      <td>2015-08-20 03:48:53.692</td>\n",
       "      <td>35.014372</td>\n",
       "      <td>32.519211</td>\n",
       "      <td>122.300003</td>\n",
       "    </tr>\n",
       "    <tr>\n",
       "      <th>2015-08-20 03:48:54.662</th>\n",
       "      <td>2015-08-20 03:48:54.662</td>\n",
       "      <td>35.014365</td>\n",
       "      <td>32.519187</td>\n",
       "      <td>122.599998</td>\n",
       "    </tr>\n",
       "    <tr>\n",
       "      <th>2015-08-20 03:48:58.869</th>\n",
       "      <td>2015-08-20 03:48:58.869</td>\n",
       "      <td>35.014337</td>\n",
       "      <td>32.519106</td>\n",
       "      <td>122.000000</td>\n",
       "    </tr>\n",
       "    <tr>\n",
       "      <th>2015-08-20 03:48:59.663</th>\n",
       "      <td>2015-08-20 03:48:59.663</td>\n",
       "      <td>35.014331</td>\n",
       "      <td>32.519084</td>\n",
       "      <td>121.800003</td>\n",
       "    </tr>\n",
       "  </tbody>\n",
       "</table>\n",
       "</div>"
      ],
      "text/plain": [
       "                                           time        lat        lng  \\\n",
       "time                                                                    \n",
       "2015-08-20 03:48:07.235 2015-08-20 03:48:07.235  35.015021  32.519585   \n",
       "2015-08-20 03:48:24.734 2015-08-20 03:48:24.734  35.014954  32.519606   \n",
       "2015-08-20 03:48:25.660 2015-08-20 03:48:25.660  35.014871  32.519612   \n",
       "2015-08-20 03:48:26.819 2015-08-20 03:48:26.819  35.014824  32.519654   \n",
       "2015-08-20 03:48:27.828 2015-08-20 03:48:27.828  35.014776  32.519689   \n",
       "2015-08-20 03:48:29.720 2015-08-20 03:48:29.720  35.014704  32.519691   \n",
       "2015-08-20 03:48:30.669 2015-08-20 03:48:30.669  35.014657  32.519734   \n",
       "2015-08-20 03:48:33.793 2015-08-20 03:48:33.793  35.014563  32.519719   \n",
       "2015-08-20 03:48:34.869 2015-08-20 03:48:34.869  35.014549  32.519694   \n",
       "2015-08-20 03:48:37.708 2015-08-20 03:48:37.708  35.014515  32.519625   \n",
       "2015-08-20 03:48:38.839 2015-08-20 03:48:38.839  35.014505  32.519599   \n",
       "2015-08-20 03:48:41.980 2015-08-20 03:48:41.980  35.014481  32.519514   \n",
       "2015-08-20 03:48:42.725 2015-08-20 03:48:42.725  35.014472  32.519486   \n",
       "2015-08-20 03:48:45.896 2015-08-20 03:48:45.896  35.014439  32.519405   \n",
       "2015-08-20 03:48:46.662 2015-08-20 03:48:46.662  35.014432  32.519379   \n",
       "2015-08-20 03:48:49.829 2015-08-20 03:48:49.829  35.014414  32.519309   \n",
       "2015-08-20 03:48:50.665 2015-08-20 03:48:50.665  35.014400  32.519287   \n",
       "2015-08-20 03:48:53.692 2015-08-20 03:48:53.692  35.014372  32.519211   \n",
       "2015-08-20 03:48:54.662 2015-08-20 03:48:54.662  35.014365  32.519187   \n",
       "2015-08-20 03:48:58.869 2015-08-20 03:48:58.869  35.014337  32.519106   \n",
       "2015-08-20 03:48:59.663 2015-08-20 03:48:59.663  35.014331  32.519084   \n",
       "\n",
       "                             height  \n",
       "time                                 \n",
       "2015-08-20 03:48:07.235  136.199997  \n",
       "2015-08-20 03:48:24.734  126.599998  \n",
       "2015-08-20 03:48:25.660  123.000000  \n",
       "2015-08-20 03:48:26.819  120.500000  \n",
       "2015-08-20 03:48:27.828  118.900002  \n",
       "2015-08-20 03:48:29.720  119.900002  \n",
       "2015-08-20 03:48:30.669  120.900002  \n",
       "2015-08-20 03:48:33.793  121.699997  \n",
       "2015-08-20 03:48:34.869  121.199997  \n",
       "2015-08-20 03:48:37.708  121.699997  \n",
       "2015-08-20 03:48:38.839  121.800003  \n",
       "2015-08-20 03:48:41.980  122.599998  \n",
       "2015-08-20 03:48:42.725  123.000000  \n",
       "2015-08-20 03:48:45.896  122.699997  \n",
       "2015-08-20 03:48:46.662  122.699997  \n",
       "2015-08-20 03:48:49.829  122.699997  \n",
       "2015-08-20 03:48:50.665  123.300003  \n",
       "2015-08-20 03:48:53.692  122.300003  \n",
       "2015-08-20 03:48:54.662  122.599998  \n",
       "2015-08-20 03:48:58.869  122.000000  \n",
       "2015-08-20 03:48:59.663  121.800003  "
      ]
     },
     "execution_count": 24,
     "metadata": {},
     "output_type": "execute_result"
    }
   ],
   "source": [
    "# Filtering times\n",
    "df.loc['2015-08-20 03:48']"
   ]
  },
  {
   "cell_type": "code",
   "execution_count": 25,
   "metadata": {},
   "outputs": [
    {
     "data": {
      "text/plain": [
       "Timestamp('2015-08-20 03:48:07.235000+0000', tz='UTC')"
      ]
     },
     "execution_count": 25,
     "metadata": {},
     "output_type": "execute_result"
    }
   ],
   "source": [
    "import pytz\n",
    "ts = df.index[0]\n",
    "ts.tz_localize(pytz.UTC)"
   ]
  },
  {
   "cell_type": "code",
   "execution_count": 26,
   "metadata": {},
   "outputs": [
    {
     "data": {
      "text/plain": [
       "Timestamp('2015-08-20 06:48:07.235000+0300', tz='Asia/Jerusalem')"
      ]
     },
     "execution_count": 26,
     "metadata": {},
     "output_type": "execute_result"
    }
   ],
   "source": [
    "ts.tz_localize(pytz.UTC).tz_convert(pytz.timezone('Asia/Jerusalem'))"
   ]
  },
  {
   "cell_type": "code",
   "execution_count": 27,
   "metadata": {},
   "outputs": [
    {
     "data": {
      "text/plain": [
       "DatetimeIndex(['2015-08-20 06:48:07.235000+03:00',\n",
       "               '2015-08-20 06:48:24.734000+03:00',\n",
       "               '2015-08-20 06:48:25.660000+03:00',\n",
       "               '2015-08-20 06:48:26.819000+03:00',\n",
       "               '2015-08-20 06:48:27.828000+03:00',\n",
       "               '2015-08-20 06:48:29.720000+03:00',\n",
       "               '2015-08-20 06:48:30.669000+03:00',\n",
       "               '2015-08-20 06:48:33.793000+03:00',\n",
       "               '2015-08-20 06:48:34.869000+03:00',\n",
       "               '2015-08-20 06:48:37.708000+03:00'],\n",
       "              dtype='datetime64[ns, Asia/Jerusalem]', name='time', freq=None)"
      ]
     },
     "execution_count": 27,
     "metadata": {},
     "output_type": "execute_result"
    }
   ],
   "source": [
    "df.index = df.index.tz_localize(pytz.UTC).tz_convert(pytz.timezone('Asia/Jerusalem'))\n",
    "df.index[:10]"
   ]
  },
  {
   "cell_type": "code",
   "execution_count": null,
   "metadata": {},
   "outputs": [],
   "source": []
  }
 ],
 "metadata": {
  "kernelspec": {
   "display_name": "Python 3",
   "language": "python",
   "name": "python3"
  },
  "language_info": {
   "codemirror_mode": {
    "name": "ipython",
    "version": 3
   },
   "file_extension": ".py",
   "mimetype": "text/x-python",
   "name": "python",
   "nbconvert_exporter": "python",
   "pygments_lexer": "ipython3",
   "version": "3.6.3"
  }
 },
 "nbformat": 4,
 "nbformat_minor": 2
}

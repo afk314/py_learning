{
 "cells": [
  {
   "cell_type": "markdown",
   "metadata": {},
   "source": [
    "## List Comprehensions\n",
    "A simple means to collect values over an iteration\n",
    "\n",
    "\n",
    "`[ expression for item in list if conditional ]`\n",
    "\n",
    "is equivalent to:\n",
    "\n",
    "```\n",
    "for item in list:\n",
    "    if conditional:\n",
    "        expression\n",
    "```        "
   ]
  },
  {
   "cell_type": "markdown",
   "metadata": {},
   "source": [
    "### Filtering\n",
    "\n",
    "new_list = [expression(i) for i in old_list if filter(i)]"
   ]
  },
  {
   "cell_type": "code",
   "execution_count": null,
   "metadata": {},
   "outputs": [],
   "source": [
    "# we'll use this below\n",
    "def reverse(s):\n",
    "  str = \"\"\n",
    "  for i in s:\n",
    "    str = i + str\n",
    "  return str"
   ]
  },
  {
   "cell_type": "code",
   "execution_count": null,
   "metadata": {},
   "outputs": [],
   "source": [
    "\n",
    "names = ['adam', 'steve', 'adrian', 'brian']\n",
    "\n",
    "reversed = [reverse(i) for i in names if i.startswith('a')]\n",
    "reversed\n",
    "\n",
    "\n"
   ]
  },
  {
   "cell_type": "code",
   "execution_count": null,
   "metadata": {},
   "outputs": [],
   "source": [
    "nums = [1,2,3,4,5,6,7,8,9,10]\n",
    "even = [i for i in nums if i % 2 == 0]\n",
    "even"
   ]
  },
  {
   "cell_type": "markdown",
   "metadata": {},
   "source": [
    "### Not just for building lists, but any sort of iteration\n"
   ]
  },
  {
   "cell_type": "code",
   "execution_count": null,
   "metadata": {},
   "outputs": [],
   "source": [
    "\n",
    "odds = [1,3,5,7,9,11]\n",
    "sum_odds = sum([i for i in odds])\n",
    "sum_odds\n"
   ]
  },
  {
   "cell_type": "markdown",
   "metadata": {},
   "source": [
    "## Zip function\n",
    "\n",
    "Zip two different things together"
   ]
  },
  {
   "cell_type": "code",
   "execution_count": null,
   "metadata": {},
   "outputs": [],
   "source": [
    "bank_balances = [100.2, 250.47, 30.33]\n",
    "bank_names = ['adam', 'john', 'homer']\n",
    "\n",
    "balances = dict(zip(bank_names, bank_balances))\n",
    "balances\n"
   ]
  },
  {
   "cell_type": "code",
   "execution_count": null,
   "metadata": {},
   "outputs": [],
   "source": [
    "## Dictionary Comprehension - Going to construct a MAP based on a \n",
    "balances = { name: float(balance) for name, balance in zip(bank_names, bank_balances)}\n",
    "balances\n",
    "\n"
   ]
  },
  {
   "cell_type": "markdown",
   "metadata": {},
   "source": [
    "## Import\n",
    "\n",
    "Python will find the code, execute and make the contents available\n",
    "\n",
    "* Executes the script at import\n",
    "    * In an isolated env, so it won't clutter up the current frame.\n",
    "    * Namespaces are kept in tact within the frame (two variable X's won't shadow each other)\n",
    "* from Simple import Run\n",
    "    * Executes normally, but it only imports the Run function\n",
    "    * Not an efficiency play - still loads the entire file\n",
    "* global variables are pinned to the frame in which they exist and can be dereferenced through the whole frame\n",
    "    * So, import Run, x from Simple - will not yield a global x when dereferenced simply as 'x' but will for 'Simple.x'\n",
    "* import __cache__ the module so changes to the module will not be available without a kernel refresh\n",
    "* The code will not be executed a second time even if it is imported again\n",
    "\n",
    "    "
   ]
  },
  {
   "cell_type": "code",
   "execution_count": null,
   "metadata": {},
   "outputs": [],
   "source": [
    "# \"Module Path\"\n",
    "import sys\n",
    "sys.path"
   ]
  },
  {
   "cell_type": "markdown",
   "metadata": {},
   "source": [
    "#### Env Variables for the path\n",
    "export PYTHONPATH=\"/dd/d/dd,/aa/a,/b/bb\""
   ]
  },
  {
   "cell_type": "markdown",
   "metadata": {},
   "source": [
    "### Scripts used as modules\n",
    "When using a script as a module, you usually don't want print statements\n",
    "or other nonsense executing after the import, but you might want it when\n",
    "you run that script directly.  You can check to see whether you are executed\n",
    "directly with the following:"
   ]
  },
  {
   "cell_type": "code",
   "execution_count": null,
   "metadata": {},
   "outputs": [],
   "source": [
    "if __name__ == '__main__':\n",
    "    print(\"I am running\")\n",
    "\n",
    "# If this is executed indirectly via an import, the if conditional will be\n",
    "# false and the code will not run.  Nice trick."
   ]
  },
  {
   "cell_type": "markdown",
   "metadata": {},
   "source": [
    "## Python Packages\n",
    "\n",
    "Package is a collection of modules\n",
    "\n",
    "* Move .py files into a common directory\n",
    "* `__init__.py` \n",
    "    * Executes when any part part of your package is used\n",
    "    * Good for initialization\n",
    "    * Load symbols from submodules\n",
    "        * Allows a user to import the package but not know what particular module holds the definition\n",
    "* Imports being used can be a problem in the packages\n",
    "    * One approach is to use local modules with the syntax `from . import x`\n",
    "\n"
   ]
  },
  {
   "cell_type": "markdown",
   "metadata": {},
   "source": [
    "## Object Orientation\n",
    "\n",
    "Collection of functions"
   ]
  },
  {
   "cell_type": "code",
   "execution_count": null,
   "metadata": {},
   "outputs": [],
   "source": [
    "class Holding(object):\n",
    "    def __init__(self, name, date, shares, price):\n",
    "        self.name = name\n",
    "        self.date = date\n",
    "        self.shares = shares\n",
    "        self.price = price\n",
    "        \n",
    "    def cost(self):\n",
    "        return self.shares * self.price\n",
    "\n",
    "h = Holding('AA', '2007-06-11', 100, 32.2)\n",
    "print(h.name)\n",
    "print(h.shares)\n",
    "print(h.date)\n",
    "print(h.price)\n",
    "h.cost() # method"
   ]
  },
  {
   "cell_type": "markdown",
   "metadata": {},
   "source": [
    "## Only 3 class operations..\n",
    "\n",
    "* GET - lookup operation\n",
    "* SET - change a value\n",
    "* DELETE - remove a value\n",
    "\n",
    "No real enforcement - you can add attributes where none have existed.\n",
    "\n",
    "Functions and properties treated identically"
   ]
  },
  {
   "cell_type": "code",
   "execution_count": null,
   "metadata": {},
   "outputs": [],
   "source": [
    "# Reflective get\n",
    "y = getattr(h, 'date')\n",
    "\n",
    "# Reflective set\n",
    "setattr(h, 'name', 'Adam')\n",
    "\n",
    "print(x == y)\n",
    "print(h.name)\n",
    "delattr(h, 'name')\n",
    "try:\n",
    "    print(h.name)\n",
    "except AttributeError:\n",
    "    print(\"It was deleted and then accessed\")"
   ]
  },
  {
   "cell_type": "markdown",
   "metadata": {},
   "source": [
    "### Constructors\n",
    "\n",
    "* Only one `__init__` method is allowed\n",
    "* Constructor methods on the instance is possible but ugly\n",
    "* Static constructors are commonly used\n",
    "    * `@classmethod` annotation makes it static"
   ]
  },
  {
   "cell_type": "code",
   "execution_count": null,
   "metadata": {},
   "outputs": [],
   "source": [
    "class Date(object):\n",
    "    def __init__(self, year, month, day):\n",
    "        self.year = year\n",
    "        self.month = month\n",
    "        self.day = day\n",
    "    \n",
    "    @classmethod  # this makes it static\n",
    "    def from_string(cls, s):   # class (Date) passed in as first arg\n",
    "        parts = s.split('-')\n",
    "        return cls(int(parts[0], int(parts[1], ints(parts[2]))))  # Construct a date using the class instance passed in\n",
    "    \n",
    "    @classmethod\n",
    "    def today(cls):\n",
    "        import time\n",
    "        t = time.localtime()\n",
    "        return cls(t.tm_year, t.tm_mon, t.tm_mday)\n",
    "    \n",
    "now = Date.today()\n",
    "print(now.year)"
   ]
  },
  {
   "cell_type": "markdown",
   "metadata": {},
   "source": [
    "## Inheritance\n"
   ]
  },
  {
   "cell_type": "code",
   "execution_count": null,
   "metadata": {},
   "outputs": [],
   "source": [
    "class Mammal(object): # Mammal inherits from object\n",
    "    def __init__(self, id): \n",
    "        self.id = id\n",
    "    def speak(self):\n",
    "        print(\"<grunt>\")\n",
    "    def how_birth(self):\n",
    "        print(\"live\")\n",
    "    \n",
    "\n",
    "dog =  Mammal(18)  \n",
    "dog.speak()\n",
    "\n",
    "\n"
   ]
  },
  {
   "cell_type": "code",
   "execution_count": null,
   "metadata": {},
   "outputs": [],
   "source": [
    "# Subclass of Mammale\n",
    "class Human(Mammal):  # Subclass of mammal\n",
    "    def speak(self):\n",
    "        print (\"Hello there, I'm number\",self.id)\n",
    "    def regress(self):\n",
    "        super().speak()  # super is a METHOD\n",
    "    def occupate(self):\n",
    "        print(\"Everybody gotta work\")\n",
    "\n",
    "adam = Human(21)\n",
    "adam.speak()\n",
    "adam.occupate()\n",
    "adam.regress()\n"
   ]
  },
  {
   "cell_type": "code",
   "execution_count": null,
   "metadata": {},
   "outputs": [],
   "source": [
    "class Hipster(Human):\n",
    "    def __init__(self, id, style):\n",
    "        self.style = style\n",
    "        super().__init__(id) # Call super's constructor - MANDATORY\n",
    "    def speak(self):\n",
    "        print(\"I'm\",self.id,\"and ima\",self.style)\n",
    "    def hobby(self):\n",
    "        print(\"Cutting wood\")\n",
    "        \n",
    "trenton = Hipster(36, \"genuflector\")\n",
    "trenton.speak()"
   ]
  },
  {
   "cell_type": "markdown",
   "metadata": {},
   "source": [
    "### Multiple Inheritance\n",
    "\n",
    "Combine multiple classes into another.. "
   ]
  },
  {
   "cell_type": "code",
   "execution_count": null,
   "metadata": {},
   "outputs": [],
   "source": [
    "class Cat(object):\n",
    "    def relax(self):\n",
    "        print(\"purrrr...\")\n",
    "        \n",
    "class Dog(object):\n",
    "    def frolick(self):\n",
    "        print(\"<jump> <jump> <tail-wag>\")\n",
    "        \n",
    "class Both(Cat, Dog): # inherit from Cat and Dog\n",
    "    pass\n",
    "\n",
    "x = Both()\n",
    "x.relax()\n",
    "x.frolick()\n"
   ]
  },
  {
   "cell_type": "markdown",
   "metadata": {},
   "source": [
    "### Abstract Base Class\n"
   ]
  },
  {
   "cell_type": "code",
   "execution_count": null,
   "metadata": {},
   "outputs": [],
   "source": [
    "from abc import ABC, abstractmethod\n",
    "\n",
    "class Being(ABC):\n",
    "    \n",
    "    def __init__(self, id):\n",
    "        self.id = id\n",
    "    \n",
    "    @abstractmethod\n",
    "    def speak(self):\n",
    "        pass\n",
    "    "
   ]
  },
  {
   "cell_type": "code",
   "execution_count": null,
   "metadata": {},
   "outputs": [],
   "source": [
    "try:\n",
    "    a = Being(10)\n",
    "except TypeError:\n",
    "    print(\"Can't instantiate an ABC\")\n"
   ]
  },
  {
   "cell_type": "code",
   "execution_count": null,
   "metadata": {},
   "outputs": [],
   "source": [
    "class Human2(Being):\n",
    "    def party(self):\n",
    "        print(\"Word!\")"
   ]
  },
  {
   "cell_type": "code",
   "execution_count": null,
   "metadata": {},
   "outputs": [],
   "source": [
    "try:\n",
    "    b = Human2(19)\n",
    "except TypeError:\n",
    "    print(\"Gotz to implement the abstract method, too\")"
   ]
  },
  {
   "cell_type": "markdown",
   "metadata": {},
   "source": [
    "### How Inheritance Works\n",
    "\n",
    "Looking at compisition patterns - used to create mixins and other novel uses"
   ]
  },
  {
   "cell_type": "code",
   "execution_count": null,
   "metadata": {},
   "outputs": [],
   "source": [
    "class Parent(object):\n",
    "    def spam(self):\n",
    "        print('Parent.spam')\n",
    "        \n",
    "class A(Parent):\n",
    "    def spam(self):\n",
    "        print('A.spam')\n",
    "        super().spam()\n",
    "        \n",
    "a = A()\n",
    "a.spam()        "
   ]
  },
  {
   "cell_type": "code",
   "execution_count": null,
   "metadata": {},
   "outputs": [],
   "source": [
    "class B(A):\n",
    "    def spam(self):\n",
    "        print('B.spam')\n",
    "        super().spam()\n",
    "b = B()\n",
    "b.spam()\n",
    "\n",
    "print(B.__mro__) #MRO = Method Resolution Order.  Chain of ancestors"
   ]
  },
  {
   "cell_type": "code",
   "execution_count": null,
   "metadata": {},
   "outputs": [],
   "source": [
    "class C(Parent):\n",
    "    def spam(self):\n",
    "        print('C.spam')\n",
    "        super().spam()\n",
    "class D(Parent):\n",
    "    def spam(self):\n",
    "        print('D.spam')\n",
    "        super().spam()\n",
    "        \n",
    "class E(A,C,D):  # this is the MRO \n",
    "        pass\n",
    "    \n",
    "class F(D,C,A):\n",
    "    pass\n",
    "\n",
    "e=E()\n",
    "e.spam()\n",
    "print(\"---\")\n",
    "f=F()\n",
    "f.spam()"
   ]
  },
  {
   "cell_type": "markdown",
   "metadata": {},
   "source": [
    "## Magic Methods\n"
   ]
  },
  {
   "cell_type": "code",
   "execution_count": null,
   "metadata": {},
   "outputs": [],
   "source": [
    "x = 42\n",
    "print(x*10 == x.__mul__(10)) # This special method will fire when the + operator is used!\n",
    "print(x+10 == x.__add__(10))"
   ]
  },
  {
   "cell_type": "code",
   "execution_count": null,
   "metadata": {},
   "outputs": [],
   "source": [
    "class Point(object):\n",
    "    def __init__(self, x, y):\n",
    "        self.x = x\n",
    "        self.y = y\n",
    "    def __add__(self,other):\n",
    "        print(\"Add\",other)\n",
    "\n",
    "p = Point(10,10)\n",
    "p + 2  # this will invoke __add__ on the Point instance."
   ]
  },
  {
   "cell_type": "code",
   "execution_count": null,
   "metadata": {},
   "outputs": [],
   "source": [
    "p + [1,2,3]  # Adding a list to the Point.. implementation is totally up to the class"
   ]
  },
  {
   "cell_type": "markdown",
   "metadata": {},
   "source": [
    "### Uses in debugging\n",
    "\n",
    "`__repr__` Implement this for other developers - shows in stack traces, debuggers, etc\n",
    "\n",
    "`__str__` Implement this for typical user output when something is toString'd"
   ]
  },
  {
   "cell_type": "code",
   "execution_count": null,
   "metadata": {},
   "outputs": [],
   "source": [
    "class Point(object):\n",
    "    def __init__(self, x, y):\n",
    "        self.x = x\n",
    "        self.y = y\n",
    "    def __add__(self,other):\n",
    "        print(\"Add\",other)\n",
    "    def __repr__(self):  # repr == representation == toString() like  -- geared for developers, not output\n",
    "        return '{!r},{!r}'.format(self.x, self.y)\n",
    "    def __str__(self):\n",
    "        return 'x={}, y={}'.format(self.x,self.y)"
   ]
  },
  {
   "cell_type": "code",
   "execution_count": null,
   "metadata": {},
   "outputs": [],
   "source": [
    "a = Point(2,4)\n",
    "print(a) # This gives me __str__\n",
    "a # This gives me __repr__\n"
   ]
  },
  {
   "cell_type": "markdown",
   "metadata": {},
   "source": [
    "### Custom Container Object\n"
   ]
  },
  {
   "cell_type": "code",
   "execution_count": null,
   "metadata": {},
   "outputs": [],
   "source": [
    "class People(object):\n",
    "    def __init__(self, people = []):\n",
    "        self.individuals = people\n",
    "        \n",
    "    def __len__(self):\n",
    "        return len(self.individuals)\n",
    "    \n",
    "    def __getitem__(self, n):\n",
    "        return self.individuals[n]\n",
    "    \n",
    "    def __iter__(self):\n",
    "        return self.individuals.__iter__()\n",
    "    \n",
    "    "
   ]
  },
  {
   "cell_type": "code",
   "execution_count": null,
   "metadata": {},
   "outputs": [],
   "source": [
    "a = People(['adam', 'john', 'bill'])"
   ]
  },
  {
   "cell_type": "code",
   "execution_count": null,
   "metadata": {},
   "outputs": [],
   "source": [
    "print(a[2]) # address my people like an array (__getitem__)\n",
    "print(len(a)) # get the num people (__len__)\n",
    "\n",
    "print(\"---\")\n",
    "for person in a:\n",
    "    print(person)\n"
   ]
  },
  {
   "cell_type": "code",
   "execution_count": null,
   "metadata": {},
   "outputs": [],
   "source": [
    "class Nothing(object):\n",
    "    pass\n",
    "\n",
    "n = Nothing()\n",
    "\n",
    "n.__dict__['yow'] = 'woohoo'\n",
    "n.yow\n",
    "\n",
    "x = Nothing()\n",
    "try:\n",
    "    x.yow\n",
    "except AttributeError:\n",
    "    print(\"__dict__ is instance level, not class level!\")\n",
    "    "
   ]
  },
  {
   "cell_type": "markdown",
   "metadata": {},
   "source": [
    "### No real private, protected attributes or methods\n",
    "\n",
    "given that, the convention states that attributes/functions starting with `_` are private:\n",
    "\n",
    "`_myfunc` is private\n",
    "`myfunc` is not private\n",
    "\n",
    "\"Taking control of the dot\" refers to getting code in between gets and sets when the object is being used"
   ]
  },
  {
   "cell_type": "code",
   "execution_count": null,
   "metadata": {},
   "outputs": [],
   "source": [
    "class Product(object):\n",
    "    def __init__(self, name=''):\n",
    "        self.name = name\n",
    "        \n",
    "    @property\n",
    "    def name(self):\n",
    "        return self._name\n",
    "    \n",
    "    @name.setter\n",
    "    def name(self,new_name):\n",
    "        if not isinstance(new_name, str):\n",
    "            raise TypeError(\"Need a string!\")\n",
    "        self._name = new_name\n",
    "        \n",
    "    def __str__(self):\n",
    "        return self.name"
   ]
  },
  {
   "cell_type": "code",
   "execution_count": null,
   "metadata": {},
   "outputs": [],
   "source": [
    "a = Product()\n",
    "a.name = 'Adam'\n",
    "a._name\n",
    "try:\n",
    "    a.name = 1\n",
    "except TypeError:\n",
    "    print(\"One way to catch type errors on setting\")"
   ]
  },
  {
   "cell_type": "markdown",
   "metadata": {},
   "source": [
    "### Properties are powerful, but verbose\n",
    "\n",
    "On every instance there is a record of what class it belongs to.\n",
    "Attribute access consults the `__class__` first, and then looks for a `__get__` method.  \n",
    "* If so, call the `__get__` or `__set__`\n",
    "\n",
    "The dot is mapped to the `__get__` and `__set__` functionality - a _descriptor_"
   ]
  },
  {
   "cell_type": "code",
   "execution_count": null,
   "metadata": {},
   "outputs": [],
   "source": [
    "class Integer(object):\n",
    "    \n",
    "    def __init__(self, name):\n",
    "        self.name = name\n",
    "        \n",
    "    def __get__(self, instance, cls):\n",
    "        return instance.__dict__[self.name]\n",
    "        \n",
    "    def __set__(self, instance, value):\n",
    "        if not isinstance(value,int):\n",
    "            raise TypeError('Expected int')\n",
    "        instance.__dict__[self.name] = value\n",
    "        \n",
    "class Point(object):\n",
    "    x = Integer('x')\n",
    "    y = Integer('y')\n",
    "    \n",
    "    def __init__(self, x, y):\n",
    "        self.x = x\n",
    "        self.y = y\n",
    "        \n",
    "    def __str__(self):\n",
    "        return str(self.x)+\",\"+str(self.y)\n",
    "        "
   ]
  },
  {
   "cell_type": "code",
   "execution_count": null,
   "metadata": {},
   "outputs": [],
   "source": [
    "p = Point(1,1)\n",
    "print(p)\n",
    "\n",
    "try:\n",
    "    p = Point(\"1\", \"1\")\n",
    "except TypeError:\n",
    "    print(\"These are strings! And I expect Integers!\")"
   ]
  },
  {
   "cell_type": "markdown",
   "metadata": {},
   "source": [
    "### Object Wrappers and Proxies\n",
    "\n",
    "Another way of taking ownership of the dot.  A little more global, blunt..\n",
    "\n",
    "Whenever you access an attribute on a class, this is carried out by `__getattribute__`\n"
   ]
  },
  {
   "cell_type": "code",
   "execution_count": 8,
   "metadata": {},
   "outputs": [],
   "source": [
    "class xyz(object):\n",
    "    def __init__(self, id):\n",
    "        self.id = id\n",
    "    \n",
    "    def __getattribute__(self, name):                      # We can intercept the dot on all istances of the class\n",
    "        print(\"Ima gonna get the attribute: \",name)\n",
    "        return super().__getattribute__(name)\n",
    "    \n",
    "    def __getattr__(self,name):                            # Capture bad attributes\n",
    "        print(\"Looks like you wanted something that doesn't exist!\",name)\n",
    "        \n",
    "    def __setattribute_(self,name,value):\n",
    "        print(\"Setter interceptor called\")\n",
    "        if name not in {'name' ,'date'}:\n",
    "            raise AttributeError(\"Must be named name or data\")"
   ]
  },
  {
   "cell_type": "code",
   "execution_count": 9,
   "metadata": {},
   "outputs": [
    {
     "name": "stdout",
     "output_type": "stream",
     "text": [
      "Ima gonna get the attribute:  jdh\n",
      "Looks like you wanted something that doesn't exist! jdh\n",
      "Ima gonna get the attribute:  hello\n"
     ]
    }
   ],
   "source": [
    "y = xyz(2)\n",
    "\n",
    "y.hello=7\n",
    "y.jdh\n",
    "y.hello\n",
    "y.uej = 'x'\n",
    "del y.hello"
   ]
  },
  {
   "cell_type": "code",
   "execution_count": null,
   "metadata": {},
   "outputs": [],
   "source": []
  }
 ],
 "metadata": {
  "kernelspec": {
   "display_name": "Python 3",
   "language": "python",
   "name": "python3"
  },
  "language_info": {
   "codemirror_mode": {
    "name": "ipython",
    "version": 3
   },
   "file_extension": ".py",
   "mimetype": "text/x-python",
   "name": "python",
   "nbconvert_exporter": "python",
   "pygments_lexer": "ipython3",
   "version": "3.6.3"
  }
 },
 "nbformat": 4,
 "nbformat_minor": 2
}

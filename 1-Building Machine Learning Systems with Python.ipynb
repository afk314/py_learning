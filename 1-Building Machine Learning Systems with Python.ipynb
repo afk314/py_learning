{
 "cells": [
  {
   "cell_type": "code",
   "execution_count": 1,
   "metadata": {},
   "outputs": [],
   "source": [
    "from matplotlib import pyplot as plt\n",
    "import numpy as np\n",
    "\n",
    "from sklearn.datasets import load_iris"
   ]
  },
  {
   "cell_type": "code",
   "execution_count": 3,
   "metadata": {},
   "outputs": [
    {
     "data": {
      "image/png": "[encoded data removed]",
      "text/plain": [
       "<matplotlib.figure.Figure at 0x10a1f9630>"
      ]
     },
     "metadata": {},
     "output_type": "display_data"
    }
   ],
   "source": [
    "data = load_iris()\n",
    "\n",
    "%matplotlib inline\n",
    "\n",
    "# load_iris returns an object with several fields\n",
    "features = data.data\n",
    "feature_names = data.feature_names\n",
    "target = data.target\n",
    "target_names = data.target_names\n",
    "for t in range(3):\n",
    "    if t == 0:\n",
    "        c = 'r'\n",
    "        marker = '>'\n",
    "    elif t == 1:\n",
    "        c = 'g'\n",
    "        marker = 'o'\n",
    "    elif t == 2:\n",
    "        c = 'b'\n",
    "        marker = 'x'\n",
    "    plt.scatter(features[target == t,0],\n",
    "            features[target == t,1],\n",
    "            marker=marker,\n",
    "            c=c)"
   ]
  },
  {
   "cell_type": "code",
   "execution_count": null,
   "metadata": {},
   "outputs": [],
   "source": []
  }
 ],
 "metadata": {
  "kernelspec": {
   "display_name": "Python 3",
   "language": "python",
   "name": "python3"
  },
  "language_info": {
   "codemirror_mode": {
    "name": "ipython",
    "version": 3
   },
   "file_extension": ".py",
   "mimetype": "text/x-python",
   "name": "python",
   "nbconvert_exporter": "python",
   "pygments_lexer": "ipython3",
   "version": "3.6.3"
  }
 },
 "nbformat": 4,
 "nbformat_minor": 2
}
